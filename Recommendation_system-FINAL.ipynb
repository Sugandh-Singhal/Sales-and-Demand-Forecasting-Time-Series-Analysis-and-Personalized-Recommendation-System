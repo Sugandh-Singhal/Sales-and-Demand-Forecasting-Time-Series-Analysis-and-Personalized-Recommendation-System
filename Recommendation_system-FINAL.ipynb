{
 "cells": [
  {
   "cell_type": "markdown",
   "id": "5de4a0da",
   "metadata": {},
   "source": [
    "### Importing the libraries"
   ]
  },
  {
   "cell_type": "code",
   "execution_count": null,
   "id": "4fd312af",
   "metadata": {},
   "outputs": [],
   "source": [
    "import pandas as pd\n",
    "import numpy as np\n",
    "from scipy.sparse import csr_matrix \n",
    "# Compressed Sparse Row matrix which is used to save memory by only storing non-zero elements\n",
    "from sklearn.decomposition import TruncatedSVD\n",
    "# dimensionality reduction technique used to reduce the number of features in the data.\n",
    "from sklearn.model_selection import train_test_split\n",
    "import warnings\n",
    "warnings.filterwarnings('ignore')"
   ]
  },
  {
   "cell_type": "markdown",
   "id": "482cf8d7",
   "metadata": {},
   "source": [
    "### Loading the data"
   ]
  },
  {
   "cell_type": "code",
   "execution_count": null,
   "id": "93a9e51c",
   "metadata": {},
   "outputs": [],
   "source": [
    "data = pd.read_csv('Final_Data.csv')"
   ]
  },
  {
   "cell_type": "code",
   "execution_count": null,
   "id": "8f5f5d2b",
   "metadata": {
    "scrolled": true
   },
   "outputs": [],
   "source": [
    "data.head()"
   ]
  },
  {
   "cell_type": "markdown",
   "id": "bf808b99",
   "metadata": {},
   "source": [
    "### Creating a pivot table to represent the user-item matrix"
   ]
  },
  {
   "cell_type": "code",
   "execution_count": null,
   "id": "d78b2996",
   "metadata": {},
   "outputs": [],
   "source": [
    "# The resulting matrix represents the quantity of items bought by each customer.\n",
    "# Any missing or NaN values are replaced with 0.\n",
    "user_item_matrix = data.pivot_table(index='Customer_Name', columns='Item_Name', values='Quantity', fill_value=0)"
   ]
  },
  {
   "cell_type": "markdown",
   "id": "1796b055",
   "metadata": {},
   "source": [
    "### Converting the user-item matrix to a sparse matrix"
   ]
  },
  {
   "cell_type": "code",
   "execution_count": null,
   "id": "484c654c",
   "metadata": {},
   "outputs": [],
   "source": [
    "# Convert the user-item matrix to a sparse matrix using the csr_matrix() function from the Scipy library.\n",
    "# The sparse matrix is used to store only non-zero elements, which helps save memory space.\n",
    "sparse_matrix = csr_matrix(user_item_matrix.values)"
   ]
  },
  {
   "cell_type": "markdown",
   "id": "02cb7a5c",
   "metadata": {},
   "source": [
    "### Split the data into training and testing sets"
   ]
  },
  {
   "cell_type": "code",
   "execution_count": null,
   "id": "5f1af3b8",
   "metadata": {},
   "outputs": [],
   "source": [
    "train_data, test_data = train_test_split(data, test_size=0.2, random_state=10)"
   ]
  },
  {
   "cell_type": "markdown",
   "id": "43726975",
   "metadata": {},
   "source": [
    "### Perform matrix factorization using SVD on the training data"
   ]
  },
  {
   "cell_type": "code",
   "execution_count": null,
   "id": "3c2041a4",
   "metadata": {},
   "outputs": [],
   "source": [
    "# The code first determines the number of components to be used in the TruncatedSVD function by\n",
    "# taking the minimum value of the length of user_item_matrix columns and user_item_matrix indices, subtracting 1.\n",
    "# The TruncatedSVD function is then used to model the user-item matrix with the specified number of components.\n",
    "# The resulting user_factors matrix represents the user embeddings, \n",
    "# while the item_factors matrix represents the item embeddings.\n",
    "\n",
    "n_components = min(len(user_item_matrix.columns), len(user_item_matrix.index)) - 1\n",
    "model = TruncatedSVD(n_components=n_components, random_state=42)\n",
    "user_factors = model.fit_transform(sparse_matrix)\n",
    "item_factors = model.components_"
   ]
  },
  {
   "cell_type": "markdown",
   "id": "2110a835",
   "metadata": {},
   "source": [
    "### Function to recommend items based on the customer's purchase history"
   ]
  },
  {
   "cell_type": "code",
   "execution_count": null,
   "id": "0829156c",
   "metadata": {},
   "outputs": [],
   "source": [
    "# Here is how the function works:\n",
    "\n",
    "#The index of the customer in the user_item_matrix is determined using the get_loc method of the index object.\n",
    "#The customer's ratings are retrieved from the user_factors matrix by accessing the row corresponding to the customer index using indexing.\n",
    "#The item scores are calculated by taking the dot product of the customer ratings and the item_factors matrix.\n",
    "#The indices of the n items with the highest scores are selected using argsort() and [::-1] to sort in descending order.\n",
    "#The names of the top n items are looked up from the user_item_matrix columns using the top item indices.\n",
    "#The function returns the names of the recommended items as an output.\n",
    "n=5\n",
    "\n",
    "def recommend_items(customer_name, n=n):\n",
    "    customer_index = user_item_matrix.index.get_loc(customer_name)\n",
    "    customer_ratings = user_factors[customer_index, :]\n",
    "    item_scores = np.dot(customer_ratings, item_factors)\n",
    "    top_item_indices = item_scores.argsort()[::-1][:n]\n",
    "    top_items = user_item_matrix.columns[top_item_indices]\n",
    "    return top_items"
   ]
  },
  {
   "cell_type": "markdown",
   "id": "48ee83dc",
   "metadata": {},
   "source": [
    "### Example usage"
   ]
  },
  {
   "cell_type": "code",
   "execution_count": null,
   "id": "f838a88f",
   "metadata": {
    "scrolled": true
   },
   "outputs": [],
   "source": [
    "customer_name = 'customer5'\n",
    "recommended_items = recommend_items(customer_name)\n",
    "print(\"Recommended items for\", customer_name + \":\", recommended_items)"
   ]
  },
  {
   "cell_type": "markdown",
   "id": "cce9d443",
   "metadata": {},
   "source": [
    "### Calculating training accuracy"
   ]
  },
  {
   "cell_type": "code",
   "execution_count": null,
   "id": "a057ea8e",
   "metadata": {},
   "outputs": [],
   "source": [
    "train_accuracies = []\n",
    "train_customer_names = train_data['Customer_Name'].unique()\n",
    "\n",
    "for customer_name in train_customer_names:\n",
    "    customer_data = train_data[train_data['Customer_Name'] == customer_name]\n",
    "    true_items = customer_data['Item_Name'].unique()\n",
    "    recommended_items = recommend_items(customer_name, n)\n",
    "\n",
    "    num_correct = len(set(true_items) & set(recommended_items))\n",
    "    accuracy = num_correct / min(n, len(true_items))  # Top-N accuracy\n",
    "    train_accuracies.append(accuracy)\n",
    "\n",
    "train_average_accuracy = np.mean(train_accuracies)\n",
    "print(\"Training Average Top-{} Accuracy: {:.2f}%\".format(n, train_average_accuracy * 100))"
   ]
  },
  {
   "cell_type": "markdown",
   "id": "c6ed0a8f",
   "metadata": {},
   "source": [
    "### Calculating testing accuracy"
   ]
  },
  {
   "cell_type": "code",
   "execution_count": null,
   "id": "e5361c53",
   "metadata": {},
   "outputs": [],
   "source": [
    "test_accuracies = []\n",
    "test_customer_names = test_data['Customer_Name'].unique()\n",
    "\n",
    "for customer_name in test_customer_names:\n",
    "    customer_data = test_data[test_data['Customer_Name'] == customer_name]\n",
    "    true_items = customer_data['Item_Name'].unique()\n",
    "    recommended_items = recommend_items(customer_name, n)\n",
    "\n",
    "    num_correct = len(set(true_items) & set(recommended_items))\n",
    "    accuracy = num_correct / min(n, len(true_items))  # Top-N accuracy\n",
    "    test_accuracies.append(accuracy)\n",
    "\n",
    "test_average_accuracy = np.mean(test_accuracies)\n",
    "print(\"Testing Average Top-{} Accuracy: {:.2f}%\".format(n, test_average_accuracy * 100))"
   ]
  },
  {
   "cell_type": "markdown",
   "id": "5d2c4126",
   "metadata": {},
   "source": [
    "### Taking the input of customer number from the user to make final recommendations"
   ]
  },
  {
   "cell_type": "code",
   "execution_count": null,
   "id": "ae005c67",
   "metadata": {},
   "outputs": [],
   "source": [
    "customer_num = int(input(\"Enter the customer number: \"))\n",
    "if customer_num>0 and customer_num<=78:\n",
    "    recommended_items = recommend_items(\"customer\"+str(customer_num))\n",
    "    print(\"\\nRecommended items for customer\"+str(customer_num) + \":\\n\")\n",
    "    for i in recommended_items.values:\n",
    "        print(i)\n",
    "else:\n",
    "    print('Customer number should be between 1 and 78')"
   ]
  }
 ],
 "metadata": {
  "kernelspec": {
   "display_name": "Python 3 (ipykernel)",
   "language": "python",
   "name": "python3"
  },
  "language_info": {
   "codemirror_mode": {
    "name": "ipython",
    "version": 3
   },
   "file_extension": ".py",
   "mimetype": "text/x-python",
   "name": "python",
   "nbconvert_exporter": "python",
   "pygments_lexer": "ipython3",
   "version": "3.9.13"
  }
 },
 "nbformat": 4,
 "nbformat_minor": 5
}
