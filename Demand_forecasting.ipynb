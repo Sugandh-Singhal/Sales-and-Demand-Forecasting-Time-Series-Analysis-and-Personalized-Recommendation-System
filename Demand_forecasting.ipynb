{
 "cells": [
  {
   "cell_type": "markdown",
   "id": "6489353a",
   "metadata": {},
   "source": [
    "### Importing necessary libraries"
   ]
  },
  {
   "cell_type": "code",
   "execution_count": 1,
   "id": "ebc7ec01",
   "metadata": {},
   "outputs": [],
   "source": [
    "import pandas as pd\n",
    "import numpy as np\n",
    "import seaborn as sns\n",
    "import matplotlib.pyplot as plt\n",
    "import warnings\n",
    "warnings.filterwarnings('ignore')\n",
    "\n",
    "from sklearn.model_selection import train_test_split\n",
    "from sklearn.preprocessing import StandardScaler\n",
    "\n",
    "from sklearn.linear_model import LinearRegression\n",
    "from sklearn.tree import DecisionTreeRegressor\n",
    "from sklearn.ensemble import RandomForestRegressor\n",
    "from sklearn.svm import SVR\n",
    "from sklearn.neighbors import KNeighborsRegressor\n",
    "from xgboost import XGBRegressor\n",
    "\n",
    "from sklearn.metrics import mean_squared_error, mean_absolute_error, r2_score\n",
    "\n",
    "from sklearn.model_selection import GridSearchCV"
   ]
  },
  {
   "cell_type": "markdown",
   "id": "760e9e3b",
   "metadata": {},
   "source": [
    "### Importing the data"
   ]
  },
  {
   "cell_type": "code",
   "execution_count": 2,
   "id": "6e9b9044",
   "metadata": {},
   "outputs": [],
   "source": [
    "data = pd.read_csv('Final_data.csv')"
   ]
  },
  {
   "cell_type": "code",
   "execution_count": null,
   "id": "f7c8e421",
   "metadata": {},
   "outputs": [],
   "source": [
    "# First 5 rows of the data\n",
    "data.head()"
   ]
  },
  {
   "cell_type": "code",
   "execution_count": 3,
   "id": "f03a8ba4",
   "metadata": {},
   "outputs": [],
   "source": [
    "# This will remove \"customer\" from all the values in 'Customer_Name' column.\n",
    "data['Customer_Name']=data['Customer_Name'].apply(lambda x:x.lstrip('customer'))\n",
    "\n",
    "# This will remove \"Item_\" from all the values in 'Item_Name' column.\n",
    "data['Item_Name']=data['Item_Name'].apply(lambda x:x.lstrip('Item_'))"
   ]
  },
  {
   "cell_type": "code",
   "execution_count": null,
   "id": "75c2b624",
   "metadata": {},
   "outputs": [],
   "source": [
    "data.head()"
   ]
  },
  {
   "cell_type": "code",
   "execution_count": 4,
   "id": "ab130a43",
   "metadata": {},
   "outputs": [],
   "source": [
    "# # Making a list with all the independent columns used for model building\n",
    "indep_var=['Customer_Name','Item_Name'\n",
    "           ,'Price_per_unit','Amount']"
   ]
  },
  {
   "cell_type": "code",
   "execution_count": 5,
   "id": "9cf80fb2",
   "metadata": {},
   "outputs": [],
   "source": [
    "# Converting the data type of the 'Customer_Name' and 'Item_Name' columns in the 'data' DataFrame to int\n",
    "data['Customer_Name'] = data['Customer_Name'].astype('int')\n",
    "data['Item_Name'] = data['Item_Name'].astype('int')"
   ]
  },
  {
   "cell_type": "markdown",
   "id": "7bf77ec5",
   "metadata": {},
   "source": [
    "### Train - Test split of the data"
   ]
  },
  {
   "cell_type": "code",
   "execution_count": 6,
   "id": "a4851da6",
   "metadata": {},
   "outputs": [],
   "source": [
    "# Assigning the dependent column to y and independent columns to x\n",
    "y = data.Quantity\n",
    "x = data[indep_var]"
   ]
  },
  {
   "cell_type": "code",
   "execution_count": 7,
   "id": "95c8364b",
   "metadata": {},
   "outputs": [],
   "source": [
    "# Train-test split on the data\n",
    "X_train, X_test, Y_train, Y_test = train_test_split(x, y, test_size=0.3,random_state=123)"
   ]
  },
  {
   "cell_type": "code",
   "execution_count": 8,
   "id": "a9839529",
   "metadata": {},
   "outputs": [],
   "source": [
    "# A function to calculate and print out four evaluation metrics,\n",
    "# namely Root Mean Squared Error (RMSE), Mean Absolute Error (MAE), R-squared (R^2) Score, and Adjusted R-squared (R^2) Score\n",
    "\n",
    "def model_result(actual,pred):\n",
    "    rmse = np.sqrt(mean_squared_error(actual,pred))\n",
    "    mae = mean_absolute_error(actual,pred)\n",
    "    r2 = r2_score(actual,pred)\n",
    "    adj_r2 = 1-(((1-r2)*(len(actual)-1))/(len(actual)-4-1))\n",
    "    \n",
    "    print(\"Evaluation Metrics\")\n",
    "    print(\"**********************************************************\")\n",
    "    print(\"Root Mean Squared Error (RMSE):\", rmse)\n",
    "    print(\"Mean Absolute Error (MAE):\", mae)\n",
    "    print(\"R-squared (R^2) Score:\", r2)\n",
    "    print(\"Adjusted (R^2) Score:\", adj_r2)\n",
    "\n",
    "    metrics = [rmse, mae, r2, adj_r2]\n",
    "    return metrics"
   ]
  },
  {
   "cell_type": "code",
   "execution_count": 9,
   "id": "48d348ed",
   "metadata": {},
   "outputs": [],
   "source": [
    "# Inside the function, the input X and Y data are fitted to the model and predicted values are generated using the testing data. \n",
    "# The function then calls on the \"model_result\" function to calculate and print evaluation metrics\n",
    "# Finally, the evaluation metrics are appended to a dictionary with the model name as key.\n",
    "\n",
    "validation_dict = {}\n",
    "def different_model(model):\n",
    "    ml = model\n",
    "    ml.fit(X_train, Y_train)\n",
    "    pred_y = ml.predict(X_test)\n",
    "    return_list = model_result(Y_test, pred_y)\n",
    "    validation_dict[model] = return_list"
   ]
  },
  {
   "cell_type": "markdown",
   "id": "fcb58a79",
   "metadata": {},
   "source": [
    "#### LinearRegression()"
   ]
  },
  {
   "cell_type": "code",
   "execution_count": 10,
   "id": "c2aa7cfa",
   "metadata": {},
   "outputs": [
    {
     "name": "stdout",
     "output_type": "stream",
     "text": [
      "Evaluation Metrics\n",
      "**********************************************************\n",
      "Root Mean Squared Error (RMSE): 251.43597839852455\n",
      "Mean Absolute Error (MAE): 115.39343342928703\n",
      "R-squared (R^2) Score: 0.8040794301719907\n",
      "Adjusted (R^2) Score: 0.8027352067083336\n"
     ]
    }
   ],
   "source": [
    "different_model(LinearRegression())"
   ]
  },
  {
   "cell_type": "markdown",
   "id": "13e6e79d",
   "metadata": {},
   "source": [
    "#### DecisionTreeRegressor()"
   ]
  },
  {
   "cell_type": "code",
   "execution_count": 11,
   "id": "231f527a",
   "metadata": {
    "scrolled": true
   },
   "outputs": [
    {
     "name": "stdout",
     "output_type": "stream",
     "text": [
      "Evaluation Metrics\n",
      "**********************************************************\n",
      "Root Mean Squared Error (RMSE): 104.36343937280473\n",
      "Mean Absolute Error (MAE): 28.461955782312927\n",
      "R-squared (R^2) Score: 0.9662462555436037\n",
      "Adjusted (R^2) Score: 0.9660146689607124\n"
     ]
    }
   ],
   "source": [
    "different_model(DecisionTreeRegressor(random_state=123))"
   ]
  },
  {
   "cell_type": "markdown",
   "id": "7ecd845e",
   "metadata": {},
   "source": [
    "#### RandomForestRegressor()"
   ]
  },
  {
   "cell_type": "code",
   "execution_count": 12,
   "id": "1a6b7431",
   "metadata": {},
   "outputs": [
    {
     "name": "stdout",
     "output_type": "stream",
     "text": [
      "Evaluation Metrics\n",
      "**********************************************************\n",
      "Root Mean Squared Error (RMSE): 66.11507848077238\n",
      "Mean Absolute Error (MAE): 17.568736904761906\n",
      "R-squared (R^2) Score: 0.9864535272601985\n",
      "Adjusted (R^2) Score: 0.986360584051006\n"
     ]
    }
   ],
   "source": [
    "different_model(RandomForestRegressor(random_state=123))"
   ]
  },
  {
   "cell_type": "markdown",
   "id": "75970588",
   "metadata": {},
   "source": [
    "#### SVR()"
   ]
  },
  {
   "cell_type": "code",
   "execution_count": 13,
   "id": "9af0dbd1",
   "metadata": {},
   "outputs": [
    {
     "name": "stdout",
     "output_type": "stream",
     "text": [
      "Evaluation Metrics\n",
      "**********************************************************\n",
      "Root Mean Squared Error (RMSE): 540.2239610971161\n",
      "Mean Absolute Error (MAE): 207.06847655460976\n",
      "R-squared (R^2) Score: 0.0955743352589481\n",
      "Adjusted (R^2) Score: 0.08936901337393233\n"
     ]
    }
   ],
   "source": [
    "different_model(SVR())"
   ]
  },
  {
   "cell_type": "markdown",
   "id": "0d624780",
   "metadata": {},
   "source": [
    "#### KNeighborsRegressor()"
   ]
  },
  {
   "cell_type": "code",
   "execution_count": 14,
   "id": "224b2e59",
   "metadata": {
    "scrolled": true
   },
   "outputs": [
    {
     "name": "stdout",
     "output_type": "stream",
     "text": [
      "Evaluation Metrics\n",
      "**********************************************************\n",
      "Root Mean Squared Error (RMSE): 261.4342442640175\n",
      "Mean Absolute Error (MAE): 109.84280612244898\n",
      "R-squared (R^2) Score: 0.7881882058828777\n",
      "Adjusted (R^2) Score: 0.7867349517208392\n"
     ]
    }
   ],
   "source": [
    "different_model(KNeighborsRegressor())"
   ]
  },
  {
   "cell_type": "markdown",
   "id": "8d140950",
   "metadata": {},
   "source": [
    "#### XGBRegressor()"
   ]
  },
  {
   "cell_type": "code",
   "execution_count": 15,
   "id": "1eb70ffd",
   "metadata": {},
   "outputs": [
    {
     "name": "stdout",
     "output_type": "stream",
     "text": [
      "Evaluation Metrics\n",
      "**********************************************************\n",
      "Root Mean Squared Error (RMSE): 55.01585592993867\n",
      "Mean Absolute Error (MAE): 16.53807866500754\n",
      "R-squared (R^2) Score: 0.9906200410039252\n",
      "Adjusted (R^2) Score: 0.9905556845099556\n"
     ]
    }
   ],
   "source": [
    "different_model(XGBRegressor(random_state=123))"
   ]
  },
  {
   "cell_type": "code",
   "execution_count": 16,
   "id": "c715f6b8",
   "metadata": {},
   "outputs": [
    {
     "data": {
      "text/html": [
       "<div>\n",
       "<style scoped>\n",
       "    .dataframe tbody tr th:only-of-type {\n",
       "        vertical-align: middle;\n",
       "    }\n",
       "\n",
       "    .dataframe tbody tr th {\n",
       "        vertical-align: top;\n",
       "    }\n",
       "\n",
       "    .dataframe thead th {\n",
       "        text-align: right;\n",
       "    }\n",
       "</style>\n",
       "<table border=\"1\" class=\"dataframe\">\n",
       "  <thead>\n",
       "    <tr style=\"text-align: right;\">\n",
       "      <th></th>\n",
       "      <th>Algorithm</th>\n",
       "      <th>RMSE</th>\n",
       "      <th>MAE</th>\n",
       "      <th>R2_SCORE</th>\n",
       "      <th>ADJUSTED_R2_SCORE</th>\n",
       "    </tr>\n",
       "  </thead>\n",
       "  <tbody>\n",
       "    <tr>\n",
       "      <th>0</th>\n",
       "      <td>LinearRegression()</td>\n",
       "      <td>251.435978</td>\n",
       "      <td>115.393433</td>\n",
       "      <td>0.804079</td>\n",
       "      <td>0.802735</td>\n",
       "    </tr>\n",
       "    <tr>\n",
       "      <th>1</th>\n",
       "      <td>DecisionTreeRegressor(random_state=123)</td>\n",
       "      <td>104.363439</td>\n",
       "      <td>28.461956</td>\n",
       "      <td>0.966246</td>\n",
       "      <td>0.966015</td>\n",
       "    </tr>\n",
       "    <tr>\n",
       "      <th>2</th>\n",
       "      <td>(DecisionTreeRegressor(max_features='auto', ra...</td>\n",
       "      <td>66.115078</td>\n",
       "      <td>17.568737</td>\n",
       "      <td>0.986454</td>\n",
       "      <td>0.986361</td>\n",
       "    </tr>\n",
       "    <tr>\n",
       "      <th>3</th>\n",
       "      <td>SVR()</td>\n",
       "      <td>540.223961</td>\n",
       "      <td>207.068477</td>\n",
       "      <td>0.095574</td>\n",
       "      <td>0.089369</td>\n",
       "    </tr>\n",
       "    <tr>\n",
       "      <th>4</th>\n",
       "      <td>KNeighborsRegressor()</td>\n",
       "      <td>261.434244</td>\n",
       "      <td>109.842806</td>\n",
       "      <td>0.788188</td>\n",
       "      <td>0.786735</td>\n",
       "    </tr>\n",
       "    <tr>\n",
       "      <th>5</th>\n",
       "      <td>XGBRegressor(base_score=None, booster=None, ca...</td>\n",
       "      <td>55.015856</td>\n",
       "      <td>16.538079</td>\n",
       "      <td>0.990620</td>\n",
       "      <td>0.990556</td>\n",
       "    </tr>\n",
       "  </tbody>\n",
       "</table>\n",
       "</div>"
      ],
      "text/plain": [
       "                                           Algorithm        RMSE         MAE  \\\n",
       "0                                 LinearRegression()  251.435978  115.393433   \n",
       "1            DecisionTreeRegressor(random_state=123)  104.363439   28.461956   \n",
       "2  (DecisionTreeRegressor(max_features='auto', ra...   66.115078   17.568737   \n",
       "3                                              SVR()  540.223961  207.068477   \n",
       "4                              KNeighborsRegressor()  261.434244  109.842806   \n",
       "5  XGBRegressor(base_score=None, booster=None, ca...   55.015856   16.538079   \n",
       "\n",
       "   R2_SCORE  ADJUSTED_R2_SCORE  \n",
       "0  0.804079           0.802735  \n",
       "1  0.966246           0.966015  \n",
       "2  0.986454           0.986361  \n",
       "3  0.095574           0.089369  \n",
       "4  0.788188           0.786735  \n",
       "5  0.990620           0.990556  "
      ]
     },
     "execution_count": 16,
     "metadata": {},
     "output_type": "execute_result"
    }
   ],
   "source": [
    "# Creating a dataframe with model name and its performance through various evaluation metrics\n",
    "\n",
    "rmse = []\n",
    "mae = []\n",
    "r2_Score = []\n",
    "adjusted_r2score=[]\n",
    "model = []\n",
    "col = ['Algorithm', 'RMSE', 'MAE', 'R2_SCORE', 'ADJUSTED_R2_SCORE']\n",
    "df_results = pd.DataFrame(columns=col)\n",
    "\n",
    "\n",
    "for model_name, scores in validation_dict.items():\n",
    "    model.append(model_name)\n",
    "    rmse.append(scores[0])\n",
    "    mae.append(scores[1])\n",
    "    r2_Score.append(scores[2])\n",
    "    adjusted_r2score.append(scores[3])\n",
    "\n",
    "df_results['Algorithm'] = model\n",
    "df_results['RMSE'] = rmse\n",
    "df_results['MAE'] = mae\n",
    "df_results['R2_SCORE'] = r2_Score\n",
    "df_results['ADJUSTED_R2_SCORE'] = adjusted_r2score\n",
    "\n",
    "df_results.reset_index(drop=True, inplace=True)\n",
    "\n",
    "df_results"
   ]
  },
  {
   "cell_type": "markdown",
   "id": "f6dfb546",
   "metadata": {},
   "source": [
    "### Final model"
   ]
  },
  {
   "cell_type": "code",
   "execution_count": 17,
   "id": "7f3eb474",
   "metadata": {},
   "outputs": [
    {
     "data": {
      "text/plain": [
       "XGBRegressor(base_score=None, booster=None, callbacks=None,\n",
       "             colsample_bylevel=None, colsample_bynode=None,\n",
       "             colsample_bytree=None, early_stopping_rounds=None,\n",
       "             enable_categorical=False, eval_metric=None, feature_types=None,\n",
       "             gamma=None, gpu_id=None, grow_policy=None, importance_type=None,\n",
       "             interaction_constraints=None, learning_rate=None, max_bin=None,\n",
       "             max_cat_threshold=None, max_cat_to_onehot=None,\n",
       "             max_delta_step=None, max_depth=None, max_leaves=None,\n",
       "             min_child_weight=None, missing=nan, monotone_constraints=None,\n",
       "             n_estimators=100, n_jobs=None, num_parallel_tree=None,\n",
       "             predictor=None, random_state=123, ...)"
      ]
     },
     "execution_count": 17,
     "metadata": {},
     "output_type": "execute_result"
    }
   ],
   "source": [
    "final_model=XGBRegressor(random_state=123)\n",
    "final_model.fit(X_train,Y_train)"
   ]
  },
  {
   "cell_type": "code",
   "execution_count": 18,
   "id": "65b46030",
   "metadata": {},
   "outputs": [],
   "source": [
    "# Predicted demand values are stored in a new column called \"Predicted_Demand\" which is added to the dataframe.\n",
    "X_test[\"Predicted_Demand\"] = final_model.predict(X_test)"
   ]
  },
  {
   "cell_type": "code",
   "execution_count": 19,
   "id": "f315119c",
   "metadata": {},
   "outputs": [],
   "source": [
    "# Adding the target varible back to the dataframe.\n",
    "X_test['Actual_Demand']= Y_test"
   ]
  },
  {
   "cell_type": "code",
   "execution_count": null,
   "id": "cc46c7fc",
   "metadata": {},
   "outputs": [],
   "source": [
    "X_test.head()"
   ]
  }
 ],
 "metadata": {
  "kernelspec": {
   "display_name": "Python 3 (ipykernel)",
   "language": "python",
   "name": "python3"
  },
  "language_info": {
   "codemirror_mode": {
    "name": "ipython",
    "version": 3
   },
   "file_extension": ".py",
   "mimetype": "text/x-python",
   "name": "python",
   "nbconvert_exporter": "python",
   "pygments_lexer": "ipython3",
   "version": "3.9.13"
  }
 },
 "nbformat": 4,
 "nbformat_minor": 5
}
